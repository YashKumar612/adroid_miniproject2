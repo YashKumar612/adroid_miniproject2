{
 "cells": [
  {
   "cell_type": "code",
   "execution_count": null,
   "metadata": {},
   "outputs": [],
   "source": [
    "\n",
    "\n",
    "# Step 1: Library inclusion                             \n",
    "\n",
    "import random\n",
    "\n",
    "\n",
    "\n",
    "# Step 2: Parameter Setting\n",
    "\n",
    "ProductList = {'p1':10, 'p2':15, 'p3':20, 'p4':25, 'p5':30, 'p6':35, 'p7':50,\n",
    "               'p8':40, 'p9':55, 'p10':60, 'p11':65, 'p12':75, 'p13':70,\n",
    "               'p14':45}\n",
    "LB          = 290\n",
    "UB          = 310\n",
    "ResultList  = set()   # Store Result List i.e. list of sets whose sum is between 90 and 210.\n",
    "Iterations  = 1000    # Number of Iterations\n",
    "\n",
    "\n",
    "\n",
    "# Step3: Start Program\n",
    "\n",
    "for _ in range(Iterations):\n",
    "    # Select number of elements from Set\n",
    "    ComboList = random.sample(list(ProductList.keys()), 5)\n",
    "    ComboSum = sum(ProductList[i] for i in ComboList)\n",
    "\n",
    "    # Check the Sum Between LB and UB\n",
    "    if LB <= ComboSum <= UB:\n",
    "        ResultList.add(tuple(ComboList))\n",
    "\n",
    "\n",
    "# Print all the sets whose sum is between LB and UB\n",
    "for r in ResultList:\n",
    "    print(r)\n",
    "\n",
    "# Print total sets\n",
    "print(\"\\nTotal Sets:\", len(ResultList), \"\\n\")"
   ]
  }
 ],
 "metadata": {
  "language_info": {
   "name": "python"
  },
  "orig_nbformat": 4
 },
 "nbformat": 4,
 "nbformat_minor": 2
}
